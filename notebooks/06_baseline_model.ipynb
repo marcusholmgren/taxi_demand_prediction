{
 "cells": [
  {
   "cell_type": "markdown",
   "source": [
    "# Baseline model\n",
    "Taxi demand prediction"
   ],
   "metadata": {
    "collapsed": false
   },
   "id": "93da2a3633bdf731"
  },
  {
   "cell_type": "code",
   "execution_count": 1,
   "outputs": [
    {
     "data": {
      "text/plain": "   rides_previous_672_hour  rides_previous_671_hour  rides_previous_670_hour  \\\n0                     11.0                     15.0                     26.0   \n1                      1.0                      0.0                      2.0   \n2                      0.0                      1.0                      0.0   \n3                      1.0                      1.0                      0.0   \n4                      0.0                      0.0                      0.0   \n\n   rides_previous_669_hour  rides_previous_668_hour  rides_previous_667_hour  \\\n0                      8.0                      9.0                      7.0   \n1                      0.0                      0.0                      0.0   \n2                      0.0                      1.0                      1.0   \n3                      0.0                      0.0                      3.0   \n4                      0.0                      0.0                      0.0   \n\n   rides_previous_666_hour  rides_previous_665_hour  rides_previous_664_hour  \\\n0                      3.0                      1.0                      0.0   \n1                      0.0                      0.0                      1.0   \n2                      1.0                      3.0                      2.0   \n3                      2.0                      3.0                      4.0   \n4                      3.0                      4.0                      1.0   \n\n   rides_previous_663_hour  ...  rides_previous_7_hour  rides_previous_6_hour  \\\n0                      3.0  ...                   11.0                    7.0   \n1                      1.0  ...                    5.0                    4.0   \n2                      3.0  ...                    8.0                    7.0   \n3                      5.0  ...                    3.0                   16.0   \n4                      2.0  ...                    3.0                    8.0   \n\n   rides_previous_5_hour  rides_previous_4_hour  rides_previous_3_hour  \\\n0                    4.0                    3.0                    4.0   \n1                   10.0                    7.0                    5.0   \n2                    8.0                    5.0                    5.0   \n3                    7.0                    1.0                    0.0   \n4                    3.0                    0.0                    4.0   \n\n   rides_previous_2_hour  rides_previous_1_hour  pickup_hour  \\\n0                    9.0                   19.0   2022-01-29   \n1                    9.0                   10.0   2022-01-30   \n2                   10.0                    0.0   2022-01-31   \n3                    1.0                    3.0   2022-02-01   \n4                    4.0                    3.0   2022-02-02   \n\n   pickup_location_id  target_rides_next_hour  \n0                   4                    17.0  \n1                   4                     9.0  \n2                   4                     3.0  \n3                   4                     3.0  \n4                   4                     1.0  \n\n[5 rows x 675 columns]",
      "text/html": "<div>\n<style scoped>\n    .dataframe tbody tr th:only-of-type {\n        vertical-align: middle;\n    }\n\n    .dataframe tbody tr th {\n        vertical-align: top;\n    }\n\n    .dataframe thead th {\n        text-align: right;\n    }\n</style>\n<table border=\"1\" class=\"dataframe\">\n  <thead>\n    <tr style=\"text-align: right;\">\n      <th></th>\n      <th>rides_previous_672_hour</th>\n      <th>rides_previous_671_hour</th>\n      <th>rides_previous_670_hour</th>\n      <th>rides_previous_669_hour</th>\n      <th>rides_previous_668_hour</th>\n      <th>rides_previous_667_hour</th>\n      <th>rides_previous_666_hour</th>\n      <th>rides_previous_665_hour</th>\n      <th>rides_previous_664_hour</th>\n      <th>rides_previous_663_hour</th>\n      <th>...</th>\n      <th>rides_previous_7_hour</th>\n      <th>rides_previous_6_hour</th>\n      <th>rides_previous_5_hour</th>\n      <th>rides_previous_4_hour</th>\n      <th>rides_previous_3_hour</th>\n      <th>rides_previous_2_hour</th>\n      <th>rides_previous_1_hour</th>\n      <th>pickup_hour</th>\n      <th>pickup_location_id</th>\n      <th>target_rides_next_hour</th>\n    </tr>\n  </thead>\n  <tbody>\n    <tr>\n      <th>0</th>\n      <td>11.0</td>\n      <td>15.0</td>\n      <td>26.0</td>\n      <td>8.0</td>\n      <td>9.0</td>\n      <td>7.0</td>\n      <td>3.0</td>\n      <td>1.0</td>\n      <td>0.0</td>\n      <td>3.0</td>\n      <td>...</td>\n      <td>11.0</td>\n      <td>7.0</td>\n      <td>4.0</td>\n      <td>3.0</td>\n      <td>4.0</td>\n      <td>9.0</td>\n      <td>19.0</td>\n      <td>2022-01-29</td>\n      <td>4</td>\n      <td>17.0</td>\n    </tr>\n    <tr>\n      <th>1</th>\n      <td>1.0</td>\n      <td>0.0</td>\n      <td>2.0</td>\n      <td>0.0</td>\n      <td>0.0</td>\n      <td>0.0</td>\n      <td>0.0</td>\n      <td>0.0</td>\n      <td>1.0</td>\n      <td>1.0</td>\n      <td>...</td>\n      <td>5.0</td>\n      <td>4.0</td>\n      <td>10.0</td>\n      <td>7.0</td>\n      <td>5.0</td>\n      <td>9.0</td>\n      <td>10.0</td>\n      <td>2022-01-30</td>\n      <td>4</td>\n      <td>9.0</td>\n    </tr>\n    <tr>\n      <th>2</th>\n      <td>0.0</td>\n      <td>1.0</td>\n      <td>0.0</td>\n      <td>0.0</td>\n      <td>1.0</td>\n      <td>1.0</td>\n      <td>1.0</td>\n      <td>3.0</td>\n      <td>2.0</td>\n      <td>3.0</td>\n      <td>...</td>\n      <td>8.0</td>\n      <td>7.0</td>\n      <td>8.0</td>\n      <td>5.0</td>\n      <td>5.0</td>\n      <td>10.0</td>\n      <td>0.0</td>\n      <td>2022-01-31</td>\n      <td>4</td>\n      <td>3.0</td>\n    </tr>\n    <tr>\n      <th>3</th>\n      <td>1.0</td>\n      <td>1.0</td>\n      <td>0.0</td>\n      <td>0.0</td>\n      <td>0.0</td>\n      <td>3.0</td>\n      <td>2.0</td>\n      <td>3.0</td>\n      <td>4.0</td>\n      <td>5.0</td>\n      <td>...</td>\n      <td>3.0</td>\n      <td>16.0</td>\n      <td>7.0</td>\n      <td>1.0</td>\n      <td>0.0</td>\n      <td>1.0</td>\n      <td>3.0</td>\n      <td>2022-02-01</td>\n      <td>4</td>\n      <td>3.0</td>\n    </tr>\n    <tr>\n      <th>4</th>\n      <td>0.0</td>\n      <td>0.0</td>\n      <td>0.0</td>\n      <td>0.0</td>\n      <td>0.0</td>\n      <td>0.0</td>\n      <td>3.0</td>\n      <td>4.0</td>\n      <td>1.0</td>\n      <td>2.0</td>\n      <td>...</td>\n      <td>3.0</td>\n      <td>8.0</td>\n      <td>3.0</td>\n      <td>0.0</td>\n      <td>4.0</td>\n      <td>4.0</td>\n      <td>3.0</td>\n      <td>2022-02-02</td>\n      <td>4</td>\n      <td>1.0</td>\n    </tr>\n  </tbody>\n</table>\n<p>5 rows × 675 columns</p>\n</div>"
     },
     "execution_count": 1,
     "metadata": {},
     "output_type": "execute_result"
    }
   ],
   "source": [
    "import pandas as pd\n",
    "from src.paths import TRANSFORMED_DATA_DIR\n",
    "\n",
    "df = pd.read_parquet(TRANSFORMED_DATA_DIR / 'tabular_data.parquet')\n",
    "df.head()"
   ],
   "metadata": {
    "collapsed": false,
    "ExecuteTime": {
     "end_time": "2023-11-11T13:30:54.900780Z",
     "start_time": "2023-11-11T13:30:53.007983Z"
    }
   },
   "id": "ff85f3e72e3a21ba"
  },
  {
   "cell_type": "code",
   "execution_count": 6,
   "outputs": [
    {
     "name": "stdout",
     "output_type": "stream",
     "text": [
      "X_train shape: (32226, 674)\n",
      "X_test shape: (56068, 674)\n",
      "y_train shape: (32226,)\n",
      "y_test shape: (56068,)\n"
     ]
    }
   ],
   "source": [
    "from datetime import datetime\n",
    "from src.data_split import train_test_split\n",
    "\n",
    "X_train, y_train, X_test, y_test = train_test_split(\n",
    "    df,\n",
    "    cutoff_date=datetime(2022, 6, 1, 0, 0, 0),\n",
    "    target_column_name='target_rides_next_hour'\n",
    ")\n",
    "\n",
    "print(\n",
    "    f'X_train shape: {X_train.shape}\\n'\n",
    "    f'X_test shape: {X_test.shape}\\n'\n",
    "    f'y_train shape: {y_train.shape}\\n'\n",
    "    f'y_test shape: {y_test.shape}\\n'\n",
    ")"
   ],
   "metadata": {
    "collapsed": false,
    "ExecuteTime": {
     "end_time": "2023-11-11T13:44:05.241354Z",
     "start_time": "2023-11-11T13:44:04.756210Z"
    }
   },
   "id": "433b14c37d6eec6b"
  },
  {
   "cell_type": "markdown",
   "source": [
    "## Create a baseline models"
   ],
   "metadata": {
    "collapsed": false
   },
   "id": "375f0c4d128034a9"
  },
  {
   "cell_type": "code",
   "execution_count": 3,
   "outputs": [],
   "source": [
    "import numpy as np\n",
    "\n",
    "class BaselineModelPreviousHour:\n",
    "    \"\"\"Baseline model that predicts the previous one hour's value.\"\"\"\n",
    "    def fit(self, X_train: pd.DataFrame, y_train: pd.Series):\n",
    "        pass\n",
    "    \n",
    "    def predict(self, X_test: pd.DataFrame) -> np.array:\n",
    "        return X_test['rides_previous_1_hour']"
   ],
   "metadata": {
    "collapsed": false,
    "ExecuteTime": {
     "end_time": "2023-11-11T13:40:50.150385Z",
     "start_time": "2023-11-11T13:40:50.110703Z"
    }
   },
   "id": "c735fffe490d0649"
  },
  {
   "cell_type": "code",
   "execution_count": 7,
   "outputs": [
    {
     "data": {
      "text/plain": "0         0.0\n1         5.0\n2        13.0\n3        12.0\n4        14.0\n         ... \n56063     0.0\n56064     0.0\n56065     0.0\n56066     0.0\n56067     0.0\nName: rides_previous_1_hour, Length: 56068, dtype: float32"
     },
     "execution_count": 7,
     "metadata": {},
     "output_type": "execute_result"
    }
   ],
   "source": [
    "model = BaselineModelPreviousHour()\n",
    "predictions = model.predict(X_test)\n",
    "predictions"
   ],
   "metadata": {
    "collapsed": false,
    "ExecuteTime": {
     "end_time": "2023-11-11T13:44:11.599397Z",
     "start_time": "2023-11-11T13:44:11.576978Z"
    }
   },
   "id": "e30e357d6b9001be"
  },
  {
   "cell_type": "code",
   "execution_count": 9,
   "outputs": [
    {
     "name": "stdout",
     "output_type": "stream",
     "text": [
      "Test MAE: 6.1252\n"
     ]
    }
   ],
   "source": [
    "from sklearn.metrics import mean_absolute_error\n",
    "# hide warnings\n",
    "import warnings\n",
    "warnings.filterwarnings('ignore')\n",
    "\n",
    "test_mea = mean_absolute_error(y_test, predictions)\n",
    "print(f'Test MAE: {test_mea:.4f}')"
   ],
   "metadata": {
    "collapsed": false,
    "ExecuteTime": {
     "end_time": "2023-11-11T13:48:20.344882Z",
     "start_time": "2023-11-11T13:48:20.336844Z"
    }
   },
   "id": "36aeb3ff6dcf6832"
  },
  {
   "cell_type": "markdown",
   "source": [
    "## Baseline model that predicts the demand observed previous week"
   ],
   "metadata": {
    "collapsed": false
   },
   "id": "3de3ce3d96fe501a"
  },
  {
   "cell_type": "code",
   "execution_count": 10,
   "outputs": [],
   "source": [
    "import pandas as pd\n",
    "import numpy as np\n",
    "\n",
    "class BaselinePreviousWeek:\n",
    "    \"\"\"Baseline model that predicts the demand observed previous week.\"\"\"\n",
    "    def fit(self, X_train: pd.DataFrame, y_train: pd.Series):\n",
    "        pass\n",
    "    \n",
    "    def predict(self, X_test: pd.DataFrame) -> np.array:\n",
    "        return X_test[f'rides_previous_{7*24}_hour']"
   ],
   "metadata": {
    "collapsed": false,
    "ExecuteTime": {
     "end_time": "2023-11-11T17:15:03.440522Z",
     "start_time": "2023-11-11T17:15:03.436619Z"
    }
   },
   "id": "941c1944f2de441f"
  },
  {
   "cell_type": "code",
   "execution_count": 11,
   "outputs": [],
   "source": [
    "model = BaselinePreviousWeek()\n",
    "predictions = model.predict(X_test)"
   ],
   "metadata": {
    "collapsed": false,
    "ExecuteTime": {
     "end_time": "2023-11-11T17:15:13.072440Z",
     "start_time": "2023-11-11T17:15:13.057726Z"
    }
   },
   "id": "85e3b6a7dbd55ff7"
  },
  {
   "cell_type": "code",
   "execution_count": 12,
   "outputs": [
    {
     "name": "stdout",
     "output_type": "stream",
     "text": [
      "Test MAE: 3.7232\n"
     ]
    }
   ],
   "source": [
    "test_mea = mean_absolute_error(y_test, predictions)\n",
    "print(f'Test MAE: {test_mea:.4f}')"
   ],
   "metadata": {
    "collapsed": false,
    "ExecuteTime": {
     "end_time": "2023-11-11T17:15:38.890437Z",
     "start_time": "2023-11-11T17:15:38.865373Z"
    }
   },
   "id": "a9c2b275a808dcd7"
  },
  {
   "cell_type": "markdown",
   "source": [
    "### Baseline model \n",
    "That predicts the demand observed at\n",
    " - t - 7 days\n",
    " - t - 14 days\n",
    " - t - 21 days\n",
    " -  t - 28 days"
   ],
   "metadata": {
    "collapsed": false
   },
   "id": "b6d1a4d674b1b6f0"
  },
  {
   "cell_type": "code",
   "execution_count": 13,
   "outputs": [],
   "source": [
    "class BaselineModelLast4Weeks:\n",
    "    \"\"\"Baseline model that predicts the demand observed at t - 7 days, t - 14 days, t - 21 days, and t - 28 days.\"\"\"\n",
    "    def fit(self, X_train: pd.DataFrame, y_train: pd.Series):\n",
    "        pass\n",
    "    \n",
    "    def predict(self, X_test: pd.DataFrame) -> np.array:\n",
    "        return 0.25*(\n",
    "            X_test[f'rides_previous_{7*24}_hour'] +\n",
    "            X_test[f'rides_previous_{7*24*2}_hour'] +\n",
    "            X_test[f'rides_previous_{7*24*3}_hour'] +\n",
    "            X_test[f'rides_previous_{7*24*4}_hour']\n",
    "        )"
   ],
   "metadata": {
    "collapsed": false,
    "ExecuteTime": {
     "end_time": "2023-11-11T19:32:52.300264Z",
     "start_time": "2023-11-11T19:32:52.297695Z"
    }
   },
   "id": "a9991d6dc8ee3103"
  },
  {
   "cell_type": "code",
   "execution_count": 14,
   "outputs": [],
   "source": [
    "model = BaselineModelLast4Weeks()\n",
    "predictions = model.predict(X_test)"
   ],
   "metadata": {
    "collapsed": false,
    "ExecuteTime": {
     "end_time": "2023-11-11T19:33:06.026705Z",
     "start_time": "2023-11-11T19:33:06.008877Z"
    }
   },
   "id": "e357b469326e1270"
  },
  {
   "cell_type": "code",
   "execution_count": 15,
   "outputs": [
    {
     "name": "stdout",
     "output_type": "stream",
     "text": [
      "Test MAE: 3.2329\n"
     ]
    }
   ],
   "source": [
    "test_mea = mean_absolute_error(y_test, predictions)\n",
    "print(f'Test MAE: {test_mea:.4f}')"
   ],
   "metadata": {
    "collapsed": false,
    "ExecuteTime": {
     "end_time": "2023-11-11T19:33:11.082579Z",
     "start_time": "2023-11-11T19:33:11.060760Z"
    }
   },
   "id": "d3b231e8140da4d8"
  },
  {
   "cell_type": "code",
   "execution_count": null,
   "outputs": [],
   "source": [],
   "metadata": {
    "collapsed": false
   },
   "id": "b3030ea32a75331f"
  }
 ],
 "metadata": {
  "kernelspec": {
   "display_name": "Python 3",
   "language": "python",
   "name": "python3"
  },
  "language_info": {
   "codemirror_mode": {
    "name": "ipython",
    "version": 2
   },
   "file_extension": ".py",
   "mimetype": "text/x-python",
   "name": "python",
   "nbconvert_exporter": "python",
   "pygments_lexer": "ipython2",
   "version": "2.7.6"
  }
 },
 "nbformat": 4,
 "nbformat_minor": 5
}
