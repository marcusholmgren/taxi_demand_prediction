{
 "cells": [
  {
   "cell_type": "markdown",
   "source": [
    "# Load the data for year 2022"
   ],
   "metadata": {
    "collapsed": false
   },
   "id": "512b2f71de931386"
  },
  {
   "cell_type": "code",
   "execution_count": 1,
   "outputs": [],
   "source": [
    "import os\n",
    "from src.data import (load_raw_data,\n",
    "                      transform_raw_data_into_ts_data,\n",
    "                      transform_ts_data_into_features_and_target)\n",
    "from src.paths import TRANSFORMED_DATA_DIR"
   ],
   "metadata": {
    "collapsed": false,
    "ExecuteTime": {
     "end_time": "2023-09-23T13:07:31.259995Z",
     "start_time": "2023-09-23T13:07:30.718917Z"
    }
   },
   "id": "7b49890d1273be8a"
  },
  {
   "cell_type": "code",
   "execution_count": 2,
   "outputs": [
    {
     "name": "stdout",
     "output_type": "stream",
     "text": [
      "File 2022-01 was already in local storage\n",
      "File 2022-02 was already in local storage\n",
      "File 2022-03 was already in local storage\n",
      "File 2022-04 was already in local storage\n",
      "File 2022-05 was already in local storage\n",
      "File 2022-06 was already in local storage\n",
      "File 2022-07 was already in local storage\n",
      "File 2022-08 was already in local storage\n",
      "File 2022-09 was already in local storage\n",
      "File 2022-10 was already in local storage\n",
      "File 2022-11 was already in local storage\n",
      "File 2022-12 was already in local storage\n",
      "(39654635, 2)\n"
     ]
    },
    {
     "data": {
      "text/plain": "            pickup_datetime  pickup_location_id\n3399544 2022-12-31 23:46:00                  16\n3399545 2022-12-31 23:13:24                  75\n3399546 2022-12-31 23:00:49                 168\n3399547 2022-12-31 23:02:50                 238\n3399548 2022-12-31 23:00:15                  85",
      "text/html": "<div>\n<style scoped>\n    .dataframe tbody tr th:only-of-type {\n        vertical-align: middle;\n    }\n\n    .dataframe tbody tr th {\n        vertical-align: top;\n    }\n\n    .dataframe thead th {\n        text-align: right;\n    }\n</style>\n<table border=\"1\" class=\"dataframe\">\n  <thead>\n    <tr style=\"text-align: right;\">\n      <th></th>\n      <th>pickup_datetime</th>\n      <th>pickup_location_id</th>\n    </tr>\n  </thead>\n  <tbody>\n    <tr>\n      <th>3399544</th>\n      <td>2022-12-31 23:46:00</td>\n      <td>16</td>\n    </tr>\n    <tr>\n      <th>3399545</th>\n      <td>2022-12-31 23:13:24</td>\n      <td>75</td>\n    </tr>\n    <tr>\n      <th>3399546</th>\n      <td>2022-12-31 23:00:49</td>\n      <td>168</td>\n    </tr>\n    <tr>\n      <th>3399547</th>\n      <td>2022-12-31 23:02:50</td>\n      <td>238</td>\n    </tr>\n    <tr>\n      <th>3399548</th>\n      <td>2022-12-31 23:00:15</td>\n      <td>85</td>\n    </tr>\n  </tbody>\n</table>\n</div>"
     },
     "execution_count": 2,
     "metadata": {},
     "output_type": "execute_result"
    }
   ],
   "source": [
    "rides = load_raw_data(year=2022)\n",
    "print(rides.shape)\n",
    "rides.tail()"
   ],
   "metadata": {
    "collapsed": false,
    "ExecuteTime": {
     "end_time": "2023-09-23T13:07:37.136566Z",
     "start_time": "2023-09-23T13:07:31.264635Z"
    }
   },
   "id": "5f7cd4d60daa117a"
  },
  {
   "cell_type": "code",
   "execution_count": 3,
   "outputs": [
    {
     "name": "stderr",
     "output_type": "stream",
     "text": [
      "100%|██████████| 262/262 [00:01<00:00, 188.10it/s]\n"
     ]
    },
    {
     "data": {
      "text/plain": "                pickup_hour  rides  pickup_location_id\n0       2022-01-01 00:00:00     11                   4\n1       2022-01-01 01:00:00     15                   4\n2       2022-01-01 02:00:00     26                   4\n3       2022-01-01 03:00:00      8                   4\n4       2022-01-01 04:00:00      9                   4\n...                     ...    ...                 ...\n2295115 2022-12-31 19:00:00      0                 199\n2295116 2022-12-31 20:00:00      0                 199\n2295117 2022-12-31 21:00:00      0                 199\n2295118 2022-12-31 22:00:00      0                 199\n2295119 2022-12-31 23:00:00      0                 199\n\n[2295120 rows x 3 columns]",
      "text/html": "<div>\n<style scoped>\n    .dataframe tbody tr th:only-of-type {\n        vertical-align: middle;\n    }\n\n    .dataframe tbody tr th {\n        vertical-align: top;\n    }\n\n    .dataframe thead th {\n        text-align: right;\n    }\n</style>\n<table border=\"1\" class=\"dataframe\">\n  <thead>\n    <tr style=\"text-align: right;\">\n      <th></th>\n      <th>pickup_hour</th>\n      <th>rides</th>\n      <th>pickup_location_id</th>\n    </tr>\n  </thead>\n  <tbody>\n    <tr>\n      <th>0</th>\n      <td>2022-01-01 00:00:00</td>\n      <td>11</td>\n      <td>4</td>\n    </tr>\n    <tr>\n      <th>1</th>\n      <td>2022-01-01 01:00:00</td>\n      <td>15</td>\n      <td>4</td>\n    </tr>\n    <tr>\n      <th>2</th>\n      <td>2022-01-01 02:00:00</td>\n      <td>26</td>\n      <td>4</td>\n    </tr>\n    <tr>\n      <th>3</th>\n      <td>2022-01-01 03:00:00</td>\n      <td>8</td>\n      <td>4</td>\n    </tr>\n    <tr>\n      <th>4</th>\n      <td>2022-01-01 04:00:00</td>\n      <td>9</td>\n      <td>4</td>\n    </tr>\n    <tr>\n      <th>...</th>\n      <td>...</td>\n      <td>...</td>\n      <td>...</td>\n    </tr>\n    <tr>\n      <th>2295115</th>\n      <td>2022-12-31 19:00:00</td>\n      <td>0</td>\n      <td>199</td>\n    </tr>\n    <tr>\n      <th>2295116</th>\n      <td>2022-12-31 20:00:00</td>\n      <td>0</td>\n      <td>199</td>\n    </tr>\n    <tr>\n      <th>2295117</th>\n      <td>2022-12-31 21:00:00</td>\n      <td>0</td>\n      <td>199</td>\n    </tr>\n    <tr>\n      <th>2295118</th>\n      <td>2022-12-31 22:00:00</td>\n      <td>0</td>\n      <td>199</td>\n    </tr>\n    <tr>\n      <th>2295119</th>\n      <td>2022-12-31 23:00:00</td>\n      <td>0</td>\n      <td>199</td>\n    </tr>\n  </tbody>\n</table>\n<p>2295120 rows × 3 columns</p>\n</div>"
     },
     "execution_count": 3,
     "metadata": {},
     "output_type": "execute_result"
    }
   ],
   "source": [
    "ts_data = transform_raw_data_into_ts_data(rides)\n",
    "ts_data"
   ],
   "metadata": {
    "collapsed": false,
    "ExecuteTime": {
     "end_time": "2023-09-23T13:07:40.675383Z",
     "start_time": "2023-09-23T13:07:37.263399Z"
    }
   },
   "id": "5bc47422bd052bbe"
  },
  {
   "cell_type": "code",
   "execution_count": 4,
   "outputs": [
    {
     "name": "stderr",
     "output_type": "stream",
     "text": [
      "100%|██████████| 262/262 [00:11<00:00, 23.39it/s]"
     ]
    },
    {
     "name": "stdout",
     "output_type": "stream",
     "text": [
      "features.shape=(88294, 674)\n",
      "targets.shape=(88294,)\n"
     ]
    },
    {
     "name": "stderr",
     "output_type": "stream",
     "text": [
      "\n"
     ]
    }
   ],
   "source": [
    "features, targets = transform_ts_data_into_features_and_target(\n",
    "    ts_data,\n",
    "    input_seq_len=24*28*1, # one month\n",
    "    step_size=24,\n",
    ")\n",
    "\n",
    "print(f'{features.shape=}')\n",
    "print(f'{targets.shape=}')"
   ],
   "metadata": {
    "collapsed": false,
    "ExecuteTime": {
     "end_time": "2023-09-23T13:07:51.886827Z",
     "start_time": "2023-09-23T13:07:40.674183Z"
    }
   },
   "id": "33c8926b82a1d609"
  },
  {
   "cell_type": "code",
   "execution_count": 6,
   "outputs": [],
   "source": [
    "tabular_data = features\n",
    "tabular_data['target_rides_next_hour'] = targets\n",
    "\n",
    "tabular_data.to_parquet(TRANSFORMED_DATA_DIR.joinpath('tabular_data.parquet'))"
   ],
   "metadata": {
    "collapsed": false,
    "ExecuteTime": {
     "end_time": "2023-09-23T13:08:11.475899Z",
     "start_time": "2023-09-23T13:08:10.607936Z"
    }
   },
   "id": "d2ecb1b6d8244a86"
  },
  {
   "cell_type": "code",
   "execution_count": null,
   "outputs": [],
   "source": [],
   "metadata": {
    "collapsed": false
   },
   "id": "d87ec62128eb0b79"
  }
 ],
 "metadata": {
  "kernelspec": {
   "display_name": "Python 3",
   "language": "python",
   "name": "python3"
  },
  "language_info": {
   "codemirror_mode": {
    "name": "ipython",
    "version": 2
   },
   "file_extension": ".py",
   "mimetype": "text/x-python",
   "name": "python",
   "nbconvert_exporter": "python",
   "pygments_lexer": "ipython2",
   "version": "2.7.6"
  }
 },
 "nbformat": 4,
 "nbformat_minor": 5
}
