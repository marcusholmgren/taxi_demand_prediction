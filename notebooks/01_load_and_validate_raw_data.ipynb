{
 "cells": [
  {
   "cell_type": "markdown",
   "source": [
    "# Load and validate the raw data\n",
    "[TLC Trip Record Data](https://www.nyc.gov/site/tlc/about/tlc-trip-record-data.page)"
   ],
   "metadata": {
    "collapsed": false
   },
   "id": "681a326a2c6b6da8"
  },
  {
   "cell_type": "code",
   "execution_count": null,
   "outputs": [],
   "source": [
    "from pathlib import Path\n",
    "import requests\n",
    "\n",
    "def download_one_file_of_raw_data(year: int, month: int) -> Path:\n",
    "    \"\"\"Download one file of raw data from the TLC website.\"\"\"\n",
    "    url = f'https://d37ci6vzurychx.cloudfront.net/trip-data/yellow_tripdata_{year}-{month:02d}.parquet'\n",
    "    response = requests.get(url)\n",
    "    \n",
    "    if response.status_code == 200:\n",
    "        path = Path(f'../data/raw/rides_{year}-{month:02d}.parquet')\n",
    "        path.write_bytes(response.content)\n",
    "        return path\n",
    "    else:\n",
    "        raise ValueError(f'Could not download file for {year}-{month:02d}.')"
   ],
   "metadata": {
    "collapsed": false
   },
   "id": "ac36b0fa2cf04cce"
  },
  {
   "cell_type": "code",
   "execution_count": null,
   "outputs": [],
   "source": [
    "download_one_file_of_raw_data(year=2022, month=1)"
   ],
   "metadata": {
    "collapsed": false
   },
   "id": "8066d49f8fcf75e0"
  },
  {
   "cell_type": "code",
   "execution_count": null,
   "outputs": [],
   "source": [
    "import pandas as pd\n",
    "\n",
    "rides = pd.read_parquet('../data/raw/rides_2022-01.parquet')\n",
    "\n",
    "rides.head(20)"
   ],
   "metadata": {
    "collapsed": false
   },
   "id": "dff18dbde13916a4"
  },
  {
   "cell_type": "code",
   "execution_count": null,
   "outputs": [],
   "source": [
    "rides = rides[['tpep_pickup_datetime', 'PULocationID']]"
   ],
   "metadata": {
    "collapsed": false
   },
   "id": "7ee50801941e184d"
  },
  {
   "cell_type": "code",
   "execution_count": null,
   "outputs": [],
   "source": [
    "rides.rename(columns={'tpep_pickup_datetime': 'pickup_datetime', \n",
    "                      'PULocationID': 'pickup_location_id'}, inplace=True)\n",
    "\n",
    "rides.head(20)"
   ],
   "metadata": {
    "collapsed": false
   },
   "id": "bda7c544d4db2430"
  },
  {
   "cell_type": "code",
   "execution_count": null,
   "outputs": [],
   "source": [
    "rides['pickup_datetime'].describe()"
   ],
   "metadata": {
    "collapsed": false
   },
   "id": "492630a02de04fc1"
  },
  {
   "cell_type": "code",
   "execution_count": null,
   "outputs": [],
   "source": [
    "# remove rides with pickup time outside of the month of January 2022\n",
    "rides = rides[rides['pickup_datetime'].between('2022-01-01', '2022-02-01')]\n",
    "\n",
    "rides['pickup_datetime'].describe()"
   ],
   "metadata": {
    "collapsed": false
   },
   "id": "3534f3d510f71c63"
  },
  {
   "cell_type": "code",
   "execution_count": null,
   "outputs": [],
   "source": [
    "# store validated data\n",
    "rides.to_parquet('../data/transformed/rides_2022-01.parquet')"
   ],
   "metadata": {
    "collapsed": false
   },
   "id": "bf7a6f806f5a57c7"
  },
  {
   "cell_type": "code",
   "execution_count": null,
   "outputs": [],
   "source": [],
   "metadata": {
    "collapsed": false
   },
   "id": "5ea7781dda025606"
  }
 ],
 "metadata": {
  "kernelspec": {
   "display_name": "Python 3",
   "language": "python",
   "name": "python3"
  },
  "language_info": {
   "codemirror_mode": {
    "name": "ipython",
    "version": 2
   },
   "file_extension": ".py",
   "mimetype": "text/x-python",
   "name": "python",
   "nbconvert_exporter": "python",
   "pygments_lexer": "ipython2",
   "version": "2.7.6"
  }
 },
 "nbformat": 4,
 "nbformat_minor": 5
}
