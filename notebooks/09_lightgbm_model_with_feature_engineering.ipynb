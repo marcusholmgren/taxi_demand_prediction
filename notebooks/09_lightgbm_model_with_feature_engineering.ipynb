{
 "cells": [
  {
   "cell_type": "markdown",
   "source": [
    "# LightGBM model with feature engineering"
   ],
   "metadata": {
    "collapsed": false
   },
   "id": "fb0cd4140458be38"
  },
  {
   "cell_type": "code",
   "execution_count": 1,
   "outputs": [
    {
     "data": {
      "text/plain": "   rides_previous_672_hour  rides_previous_671_hour  rides_previous_670_hour  \\\n0                     11.0                     15.0                     26.0   \n1                      1.0                      0.0                      2.0   \n2                      0.0                      1.0                      0.0   \n3                      1.0                      1.0                      0.0   \n4                      0.0                      0.0                      0.0   \n\n   rides_previous_669_hour  rides_previous_668_hour  rides_previous_667_hour  \\\n0                      8.0                      9.0                      7.0   \n1                      0.0                      0.0                      0.0   \n2                      0.0                      1.0                      1.0   \n3                      0.0                      0.0                      3.0   \n4                      0.0                      0.0                      0.0   \n\n   rides_previous_666_hour  rides_previous_665_hour  rides_previous_664_hour  \\\n0                      3.0                      1.0                      0.0   \n1                      0.0                      0.0                      1.0   \n2                      1.0                      3.0                      2.0   \n3                      2.0                      3.0                      4.0   \n4                      3.0                      4.0                      1.0   \n\n   rides_previous_663_hour  ...  rides_previous_7_hour  rides_previous_6_hour  \\\n0                      3.0  ...                   11.0                    7.0   \n1                      1.0  ...                    5.0                    4.0   \n2                      3.0  ...                    8.0                    7.0   \n3                      5.0  ...                    3.0                   16.0   \n4                      2.0  ...                    3.0                    8.0   \n\n   rides_previous_5_hour  rides_previous_4_hour  rides_previous_3_hour  \\\n0                    4.0                    3.0                    4.0   \n1                   10.0                    7.0                    5.0   \n2                    8.0                    5.0                    5.0   \n3                    7.0                    1.0                    0.0   \n4                    3.0                    0.0                    4.0   \n\n   rides_previous_2_hour  rides_previous_1_hour  pickup_hour  \\\n0                    9.0                   19.0   2022-01-29   \n1                    9.0                   10.0   2022-01-30   \n2                   10.0                    0.0   2022-01-31   \n3                    1.0                    3.0   2022-02-01   \n4                    4.0                    3.0   2022-02-02   \n\n   pickup_location_id  target_rides_next_hour  \n0                   4                    17.0  \n1                   4                     9.0  \n2                   4                     3.0  \n3                   4                     3.0  \n4                   4                     1.0  \n\n[5 rows x 675 columns]",
      "text/html": "<div>\n<style scoped>\n    .dataframe tbody tr th:only-of-type {\n        vertical-align: middle;\n    }\n\n    .dataframe tbody tr th {\n        vertical-align: top;\n    }\n\n    .dataframe thead th {\n        text-align: right;\n    }\n</style>\n<table border=\"1\" class=\"dataframe\">\n  <thead>\n    <tr style=\"text-align: right;\">\n      <th></th>\n      <th>rides_previous_672_hour</th>\n      <th>rides_previous_671_hour</th>\n      <th>rides_previous_670_hour</th>\n      <th>rides_previous_669_hour</th>\n      <th>rides_previous_668_hour</th>\n      <th>rides_previous_667_hour</th>\n      <th>rides_previous_666_hour</th>\n      <th>rides_previous_665_hour</th>\n      <th>rides_previous_664_hour</th>\n      <th>rides_previous_663_hour</th>\n      <th>...</th>\n      <th>rides_previous_7_hour</th>\n      <th>rides_previous_6_hour</th>\n      <th>rides_previous_5_hour</th>\n      <th>rides_previous_4_hour</th>\n      <th>rides_previous_3_hour</th>\n      <th>rides_previous_2_hour</th>\n      <th>rides_previous_1_hour</th>\n      <th>pickup_hour</th>\n      <th>pickup_location_id</th>\n      <th>target_rides_next_hour</th>\n    </tr>\n  </thead>\n  <tbody>\n    <tr>\n      <th>0</th>\n      <td>11.0</td>\n      <td>15.0</td>\n      <td>26.0</td>\n      <td>8.0</td>\n      <td>9.0</td>\n      <td>7.0</td>\n      <td>3.0</td>\n      <td>1.0</td>\n      <td>0.0</td>\n      <td>3.0</td>\n      <td>...</td>\n      <td>11.0</td>\n      <td>7.0</td>\n      <td>4.0</td>\n      <td>3.0</td>\n      <td>4.0</td>\n      <td>9.0</td>\n      <td>19.0</td>\n      <td>2022-01-29</td>\n      <td>4</td>\n      <td>17.0</td>\n    </tr>\n    <tr>\n      <th>1</th>\n      <td>1.0</td>\n      <td>0.0</td>\n      <td>2.0</td>\n      <td>0.0</td>\n      <td>0.0</td>\n      <td>0.0</td>\n      <td>0.0</td>\n      <td>0.0</td>\n      <td>1.0</td>\n      <td>1.0</td>\n      <td>...</td>\n      <td>5.0</td>\n      <td>4.0</td>\n      <td>10.0</td>\n      <td>7.0</td>\n      <td>5.0</td>\n      <td>9.0</td>\n      <td>10.0</td>\n      <td>2022-01-30</td>\n      <td>4</td>\n      <td>9.0</td>\n    </tr>\n    <tr>\n      <th>2</th>\n      <td>0.0</td>\n      <td>1.0</td>\n      <td>0.0</td>\n      <td>0.0</td>\n      <td>1.0</td>\n      <td>1.0</td>\n      <td>1.0</td>\n      <td>3.0</td>\n      <td>2.0</td>\n      <td>3.0</td>\n      <td>...</td>\n      <td>8.0</td>\n      <td>7.0</td>\n      <td>8.0</td>\n      <td>5.0</td>\n      <td>5.0</td>\n      <td>10.0</td>\n      <td>0.0</td>\n      <td>2022-01-31</td>\n      <td>4</td>\n      <td>3.0</td>\n    </tr>\n    <tr>\n      <th>3</th>\n      <td>1.0</td>\n      <td>1.0</td>\n      <td>0.0</td>\n      <td>0.0</td>\n      <td>0.0</td>\n      <td>3.0</td>\n      <td>2.0</td>\n      <td>3.0</td>\n      <td>4.0</td>\n      <td>5.0</td>\n      <td>...</td>\n      <td>3.0</td>\n      <td>16.0</td>\n      <td>7.0</td>\n      <td>1.0</td>\n      <td>0.0</td>\n      <td>1.0</td>\n      <td>3.0</td>\n      <td>2022-02-01</td>\n      <td>4</td>\n      <td>3.0</td>\n    </tr>\n    <tr>\n      <th>4</th>\n      <td>0.0</td>\n      <td>0.0</td>\n      <td>0.0</td>\n      <td>0.0</td>\n      <td>0.0</td>\n      <td>0.0</td>\n      <td>3.0</td>\n      <td>4.0</td>\n      <td>1.0</td>\n      <td>2.0</td>\n      <td>...</td>\n      <td>3.0</td>\n      <td>8.0</td>\n      <td>3.0</td>\n      <td>0.0</td>\n      <td>4.0</td>\n      <td>4.0</td>\n      <td>3.0</td>\n      <td>2022-02-02</td>\n      <td>4</td>\n      <td>1.0</td>\n    </tr>\n  </tbody>\n</table>\n<p>5 rows × 675 columns</p>\n</div>"
     },
     "execution_count": 1,
     "metadata": {},
     "output_type": "execute_result"
    }
   ],
   "source": [
    "import pandas as pd\n",
    "from src.paths import TRANSFORMED_DATA_DIR\n",
    "\n",
    "df = pd.read_parquet(TRANSFORMED_DATA_DIR / 'tabular_data.parquet')\n",
    "df.head()"
   ],
   "metadata": {
    "collapsed": false,
    "ExecuteTime": {
     "end_time": "2023-11-25T14:16:48.047651Z",
     "start_time": "2023-11-25T14:16:46.880396Z"
    }
   },
   "id": "205dc64f33a430e2"
  },
  {
   "cell_type": "code",
   "execution_count": 3,
   "outputs": [
    {
     "name": "stdout",
     "output_type": "stream",
     "text": [
      "X_train shape: (32226, 674)\n",
      "y_train shape: (32226,)\n",
      "X_test shape: (56068, 674)\n",
      "y_test shape: (56068,)\n"
     ]
    }
   ],
   "source": [
    "from datetime import datetime\n",
    "from src.data_split import train_test_split\n",
    "\n",
    "X_train, y_train, X_test, y_test = train_test_split(\n",
    "    df,\n",
    "    cutoff_date=datetime(2022, 6, 1, 0 ,0 ,0),\n",
    "    target_column_name='target_rides_next_hour'\n",
    ")\n",
    "\n",
    "# print the shapes of the train and test sets with names\n",
    "print(f'X_train shape: {X_train.shape}')\n",
    "print(f'y_train shape: {y_train.shape}')\n",
    "print(f'X_test shape: {X_test.shape}')\n",
    "print(f'y_test shape: {y_test.shape}')"
   ],
   "metadata": {
    "collapsed": false,
    "ExecuteTime": {
     "end_time": "2023-11-25T14:29:29.462888Z",
     "start_time": "2023-11-25T14:29:29.164887Z"
    }
   },
   "id": "1d39c05d03637dbc"
  },
  {
   "cell_type": "markdown",
   "source": [
    "## Feature engineering"
   ],
   "metadata": {
    "collapsed": false
   },
   "id": "188ad98e5882f629"
  },
  {
   "cell_type": "code",
   "execution_count": 7,
   "outputs": [],
   "source": [
    "def average_rides_last_4_weeks(X: pd.DataFrame) -> pd.DataFrame:\n",
    "    \"\"\"\n",
    "    Adds one column with the average rides from\n",
    "    - 7 days ago\n",
    "    - 14 days ago\n",
    "    - 21 days ago\n",
    "    - 28 days ago\n",
    "    :param X: DataFrame with the features\n",
    "    :return: DataFrame with the new feature\n",
    "    \"\"\"\n",
    "    X['average_rides_last_4_weeks'] = (\n",
    "        X[f'rides_previous_{7*24}_hour'] +\n",
    "        X[f'rides_previous_{2*7*24}_hour'] +\n",
    "        X[f'rides_previous_{3*7*24}_hour'] +\n",
    "        X[f'rides_previous_{4*7*24}_hour']\n",
    "    ) / 4\n",
    "    return X"
   ],
   "metadata": {
    "collapsed": false,
    "ExecuteTime": {
     "end_time": "2023-11-25T14:36:25.538600Z",
     "start_time": "2023-11-25T14:36:25.530904Z"
    }
   },
   "id": "18cb5103e40ab4d2"
  },
  {
   "cell_type": "code",
   "execution_count": 8,
   "outputs": [],
   "source": [
    "from sklearn.preprocessing import FunctionTransformer\n",
    "\n",
    "add_feature_average_rides_last_4_weeks = FunctionTransformer(\n",
    "    average_rides_last_4_weeks,\n",
    "    validate=False\n",
    ")"
   ],
   "metadata": {
    "collapsed": false,
    "ExecuteTime": {
     "end_time": "2023-11-25T14:36:27.858658Z",
     "start_time": "2023-11-25T14:36:27.853187Z"
    }
   },
   "id": "3386899f1e00b8ff"
  },
  {
   "cell_type": "code",
   "execution_count": 10,
   "outputs": [
    {
     "data": {
      "text/plain": "   rides_previous_672_hour  rides_previous_671_hour  rides_previous_670_hour  \\\n0                     11.0                     15.0                     26.0   \n1                      1.0                      0.0                      2.0   \n2                      0.0                      1.0                      0.0   \n3                      1.0                      1.0                      0.0   \n4                      0.0                      0.0                      0.0   \n\n   rides_previous_669_hour  rides_previous_668_hour  rides_previous_667_hour  \\\n0                      8.0                      9.0                      7.0   \n1                      0.0                      0.0                      0.0   \n2                      0.0                      1.0                      1.0   \n3                      0.0                      0.0                      3.0   \n4                      0.0                      0.0                      0.0   \n\n   rides_previous_666_hour  rides_previous_665_hour  rides_previous_664_hour  \\\n0                      3.0                      1.0                      0.0   \n1                      0.0                      0.0                      1.0   \n2                      1.0                      3.0                      2.0   \n3                      2.0                      3.0                      4.0   \n4                      3.0                      4.0                      1.0   \n\n   rides_previous_663_hour  ...  rides_previous_7_hour  rides_previous_6_hour  \\\n0                      3.0  ...                   11.0                    7.0   \n1                      1.0  ...                    5.0                    4.0   \n2                      3.0  ...                    8.0                    7.0   \n3                      5.0  ...                    3.0                   16.0   \n4                      2.0  ...                    3.0                    8.0   \n\n   rides_previous_5_hour  rides_previous_4_hour  rides_previous_3_hour  \\\n0                    4.0                    3.0                    4.0   \n1                   10.0                    7.0                    5.0   \n2                    8.0                    5.0                    5.0   \n3                    7.0                    1.0                    0.0   \n4                    3.0                    0.0                    4.0   \n\n   rides_previous_2_hour  rides_previous_1_hour  pickup_hour  \\\n0                    9.0                   19.0   2022-01-29   \n1                    9.0                   10.0   2022-01-30   \n2                   10.0                    0.0   2022-01-31   \n3                    1.0                    3.0   2022-02-01   \n4                    4.0                    3.0   2022-02-02   \n\n   pickup_location_id  average_rides_last_4_weeks  \n0                   4                       20.25  \n1                   4                       17.50  \n2                   4                        0.25  \n3                   4                        0.75  \n4                   4                        0.75  \n\n[5 rows x 675 columns]",
      "text/html": "<div>\n<style scoped>\n    .dataframe tbody tr th:only-of-type {\n        vertical-align: middle;\n    }\n\n    .dataframe tbody tr th {\n        vertical-align: top;\n    }\n\n    .dataframe thead th {\n        text-align: right;\n    }\n</style>\n<table border=\"1\" class=\"dataframe\">\n  <thead>\n    <tr style=\"text-align: right;\">\n      <th></th>\n      <th>rides_previous_672_hour</th>\n      <th>rides_previous_671_hour</th>\n      <th>rides_previous_670_hour</th>\n      <th>rides_previous_669_hour</th>\n      <th>rides_previous_668_hour</th>\n      <th>rides_previous_667_hour</th>\n      <th>rides_previous_666_hour</th>\n      <th>rides_previous_665_hour</th>\n      <th>rides_previous_664_hour</th>\n      <th>rides_previous_663_hour</th>\n      <th>...</th>\n      <th>rides_previous_7_hour</th>\n      <th>rides_previous_6_hour</th>\n      <th>rides_previous_5_hour</th>\n      <th>rides_previous_4_hour</th>\n      <th>rides_previous_3_hour</th>\n      <th>rides_previous_2_hour</th>\n      <th>rides_previous_1_hour</th>\n      <th>pickup_hour</th>\n      <th>pickup_location_id</th>\n      <th>average_rides_last_4_weeks</th>\n    </tr>\n  </thead>\n  <tbody>\n    <tr>\n      <th>0</th>\n      <td>11.0</td>\n      <td>15.0</td>\n      <td>26.0</td>\n      <td>8.0</td>\n      <td>9.0</td>\n      <td>7.0</td>\n      <td>3.0</td>\n      <td>1.0</td>\n      <td>0.0</td>\n      <td>3.0</td>\n      <td>...</td>\n      <td>11.0</td>\n      <td>7.0</td>\n      <td>4.0</td>\n      <td>3.0</td>\n      <td>4.0</td>\n      <td>9.0</td>\n      <td>19.0</td>\n      <td>2022-01-29</td>\n      <td>4</td>\n      <td>20.25</td>\n    </tr>\n    <tr>\n      <th>1</th>\n      <td>1.0</td>\n      <td>0.0</td>\n      <td>2.0</td>\n      <td>0.0</td>\n      <td>0.0</td>\n      <td>0.0</td>\n      <td>0.0</td>\n      <td>0.0</td>\n      <td>1.0</td>\n      <td>1.0</td>\n      <td>...</td>\n      <td>5.0</td>\n      <td>4.0</td>\n      <td>10.0</td>\n      <td>7.0</td>\n      <td>5.0</td>\n      <td>9.0</td>\n      <td>10.0</td>\n      <td>2022-01-30</td>\n      <td>4</td>\n      <td>17.50</td>\n    </tr>\n    <tr>\n      <th>2</th>\n      <td>0.0</td>\n      <td>1.0</td>\n      <td>0.0</td>\n      <td>0.0</td>\n      <td>1.0</td>\n      <td>1.0</td>\n      <td>1.0</td>\n      <td>3.0</td>\n      <td>2.0</td>\n      <td>3.0</td>\n      <td>...</td>\n      <td>8.0</td>\n      <td>7.0</td>\n      <td>8.0</td>\n      <td>5.0</td>\n      <td>5.0</td>\n      <td>10.0</td>\n      <td>0.0</td>\n      <td>2022-01-31</td>\n      <td>4</td>\n      <td>0.25</td>\n    </tr>\n    <tr>\n      <th>3</th>\n      <td>1.0</td>\n      <td>1.0</td>\n      <td>0.0</td>\n      <td>0.0</td>\n      <td>0.0</td>\n      <td>3.0</td>\n      <td>2.0</td>\n      <td>3.0</td>\n      <td>4.0</td>\n      <td>5.0</td>\n      <td>...</td>\n      <td>3.0</td>\n      <td>16.0</td>\n      <td>7.0</td>\n      <td>1.0</td>\n      <td>0.0</td>\n      <td>1.0</td>\n      <td>3.0</td>\n      <td>2022-02-01</td>\n      <td>4</td>\n      <td>0.75</td>\n    </tr>\n    <tr>\n      <th>4</th>\n      <td>0.0</td>\n      <td>0.0</td>\n      <td>0.0</td>\n      <td>0.0</td>\n      <td>0.0</td>\n      <td>0.0</td>\n      <td>3.0</td>\n      <td>4.0</td>\n      <td>1.0</td>\n      <td>2.0</td>\n      <td>...</td>\n      <td>3.0</td>\n      <td>8.0</td>\n      <td>3.0</td>\n      <td>0.0</td>\n      <td>4.0</td>\n      <td>4.0</td>\n      <td>3.0</td>\n      <td>2022-02-02</td>\n      <td>4</td>\n      <td>0.75</td>\n    </tr>\n  </tbody>\n</table>\n<p>5 rows × 675 columns</p>\n</div>"
     },
     "execution_count": 10,
     "metadata": {},
     "output_type": "execute_result"
    }
   ],
   "source": [
    "add_feature_average_rides_last_4_weeks.fit_transform(X_train).head()"
   ],
   "metadata": {
    "collapsed": false,
    "ExecuteTime": {
     "end_time": "2023-11-25T14:37:57.062088Z",
     "start_time": "2023-11-25T14:37:57.020324Z"
    }
   },
   "id": "5fc1067c5b8b31fc"
  },
  {
   "cell_type": "markdown",
   "source": [
    "Add custom Scikit-Learn transformer to generate numeric columns from datetime.\n",
    "\n",
    "If month is added, the model performs worse."
   ],
   "metadata": {
    "collapsed": false
   },
   "id": "8dc6567738e575eb"
  },
  {
   "cell_type": "code",
   "execution_count": 20,
   "outputs": [],
   "source": [
    "from sklearn.base import BaseEstimator, TransformerMixin\n",
    "\n",
    "class TemporalFeatureEngineering(BaseEstimator, TransformerMixin):\n",
    "    \"\"\"Adds numeric columns from pickup_hour column.\"\"\"\n",
    "    \n",
    "    def fit(self, X, y=None):\n",
    "        return self\n",
    "    \n",
    "    def transform(self, X, y=None):\n",
    "        X_ = X.copy()\n",
    "        \n",
    "        # Generate numeric columns from datetime\n",
    "        X_['hour'] = X_['pickup_hour'].dt.hour\n",
    "        X_['day_of_week'] = X_['pickup_hour'].dt.dayofweek\n",
    "        #X_['month'] = X_['pickup_hour'].dt.month\n",
    "        \n",
    "        return X_.drop(columns=['pickup_hour'])"
   ],
   "metadata": {
    "collapsed": false,
    "ExecuteTime": {
     "end_time": "2023-11-25T14:47:59.226105Z",
     "start_time": "2023-11-25T14:47:59.214843Z"
    }
   },
   "id": "842aedf77641d3f7"
  },
  {
   "cell_type": "code",
   "execution_count": 22,
   "outputs": [
    {
     "data": {
      "text/plain": "   rides_previous_672_hour  rides_previous_671_hour  rides_previous_670_hour  \\\n0                     11.0                     15.0                     26.0   \n1                      1.0                      0.0                      2.0   \n2                      0.0                      1.0                      0.0   \n3                      1.0                      1.0                      0.0   \n4                      0.0                      0.0                      0.0   \n\n   rides_previous_669_hour  rides_previous_668_hour  rides_previous_667_hour  \\\n0                      8.0                      9.0                      7.0   \n1                      0.0                      0.0                      0.0   \n2                      0.0                      1.0                      1.0   \n3                      0.0                      0.0                      3.0   \n4                      0.0                      0.0                      0.0   \n\n   rides_previous_666_hour  rides_previous_665_hour  rides_previous_664_hour  \\\n0                      3.0                      1.0                      0.0   \n1                      0.0                      0.0                      1.0   \n2                      1.0                      3.0                      2.0   \n3                      2.0                      3.0                      4.0   \n4                      3.0                      4.0                      1.0   \n\n   rides_previous_663_hour  ...  rides_previous_6_hour  rides_previous_5_hour  \\\n0                      3.0  ...                    7.0                    4.0   \n1                      1.0  ...                    4.0                   10.0   \n2                      3.0  ...                    7.0                    8.0   \n3                      5.0  ...                   16.0                    7.0   \n4                      2.0  ...                    8.0                    3.0   \n\n   rides_previous_4_hour  rides_previous_3_hour  rides_previous_2_hour  \\\n0                    3.0                    4.0                    9.0   \n1                    7.0                    5.0                    9.0   \n2                    5.0                    5.0                   10.0   \n3                    1.0                    0.0                    1.0   \n4                    0.0                    4.0                    4.0   \n\n   rides_previous_1_hour  pickup_location_id  average_rides_last_4_weeks  \\\n0                   19.0                   4                       20.25   \n1                   10.0                   4                       17.50   \n2                    0.0                   4                        0.25   \n3                    3.0                   4                        0.75   \n4                    3.0                   4                        0.75   \n\n   hour  day_of_week  \n0     0            5  \n1     0            6  \n2     0            0  \n3     0            1  \n4     0            2  \n\n[5 rows x 676 columns]",
      "text/html": "<div>\n<style scoped>\n    .dataframe tbody tr th:only-of-type {\n        vertical-align: middle;\n    }\n\n    .dataframe tbody tr th {\n        vertical-align: top;\n    }\n\n    .dataframe thead th {\n        text-align: right;\n    }\n</style>\n<table border=\"1\" class=\"dataframe\">\n  <thead>\n    <tr style=\"text-align: right;\">\n      <th></th>\n      <th>rides_previous_672_hour</th>\n      <th>rides_previous_671_hour</th>\n      <th>rides_previous_670_hour</th>\n      <th>rides_previous_669_hour</th>\n      <th>rides_previous_668_hour</th>\n      <th>rides_previous_667_hour</th>\n      <th>rides_previous_666_hour</th>\n      <th>rides_previous_665_hour</th>\n      <th>rides_previous_664_hour</th>\n      <th>rides_previous_663_hour</th>\n      <th>...</th>\n      <th>rides_previous_6_hour</th>\n      <th>rides_previous_5_hour</th>\n      <th>rides_previous_4_hour</th>\n      <th>rides_previous_3_hour</th>\n      <th>rides_previous_2_hour</th>\n      <th>rides_previous_1_hour</th>\n      <th>pickup_location_id</th>\n      <th>average_rides_last_4_weeks</th>\n      <th>hour</th>\n      <th>day_of_week</th>\n    </tr>\n  </thead>\n  <tbody>\n    <tr>\n      <th>0</th>\n      <td>11.0</td>\n      <td>15.0</td>\n      <td>26.0</td>\n      <td>8.0</td>\n      <td>9.0</td>\n      <td>7.0</td>\n      <td>3.0</td>\n      <td>1.0</td>\n      <td>0.0</td>\n      <td>3.0</td>\n      <td>...</td>\n      <td>7.0</td>\n      <td>4.0</td>\n      <td>3.0</td>\n      <td>4.0</td>\n      <td>9.0</td>\n      <td>19.0</td>\n      <td>4</td>\n      <td>20.25</td>\n      <td>0</td>\n      <td>5</td>\n    </tr>\n    <tr>\n      <th>1</th>\n      <td>1.0</td>\n      <td>0.0</td>\n      <td>2.0</td>\n      <td>0.0</td>\n      <td>0.0</td>\n      <td>0.0</td>\n      <td>0.0</td>\n      <td>0.0</td>\n      <td>1.0</td>\n      <td>1.0</td>\n      <td>...</td>\n      <td>4.0</td>\n      <td>10.0</td>\n      <td>7.0</td>\n      <td>5.0</td>\n      <td>9.0</td>\n      <td>10.0</td>\n      <td>4</td>\n      <td>17.50</td>\n      <td>0</td>\n      <td>6</td>\n    </tr>\n    <tr>\n      <th>2</th>\n      <td>0.0</td>\n      <td>1.0</td>\n      <td>0.0</td>\n      <td>0.0</td>\n      <td>1.0</td>\n      <td>1.0</td>\n      <td>1.0</td>\n      <td>3.0</td>\n      <td>2.0</td>\n      <td>3.0</td>\n      <td>...</td>\n      <td>7.0</td>\n      <td>8.0</td>\n      <td>5.0</td>\n      <td>5.0</td>\n      <td>10.0</td>\n      <td>0.0</td>\n      <td>4</td>\n      <td>0.25</td>\n      <td>0</td>\n      <td>0</td>\n    </tr>\n    <tr>\n      <th>3</th>\n      <td>1.0</td>\n      <td>1.0</td>\n      <td>0.0</td>\n      <td>0.0</td>\n      <td>0.0</td>\n      <td>3.0</td>\n      <td>2.0</td>\n      <td>3.0</td>\n      <td>4.0</td>\n      <td>5.0</td>\n      <td>...</td>\n      <td>16.0</td>\n      <td>7.0</td>\n      <td>1.0</td>\n      <td>0.0</td>\n      <td>1.0</td>\n      <td>3.0</td>\n      <td>4</td>\n      <td>0.75</td>\n      <td>0</td>\n      <td>1</td>\n    </tr>\n    <tr>\n      <th>4</th>\n      <td>0.0</td>\n      <td>0.0</td>\n      <td>0.0</td>\n      <td>0.0</td>\n      <td>0.0</td>\n      <td>0.0</td>\n      <td>3.0</td>\n      <td>4.0</td>\n      <td>1.0</td>\n      <td>2.0</td>\n      <td>...</td>\n      <td>8.0</td>\n      <td>3.0</td>\n      <td>0.0</td>\n      <td>4.0</td>\n      <td>4.0</td>\n      <td>3.0</td>\n      <td>4</td>\n      <td>0.75</td>\n      <td>0</td>\n      <td>2</td>\n    </tr>\n  </tbody>\n</table>\n<p>5 rows × 676 columns</p>\n</div>"
     },
     "execution_count": 22,
     "metadata": {},
     "output_type": "execute_result"
    }
   ],
   "source": [
    "temporal_feature_engineering = TemporalFeatureEngineering()\n",
    "temporal_feature_engineering.fit_transform(X_train).head()"
   ],
   "metadata": {
    "collapsed": false,
    "ExecuteTime": {
     "end_time": "2023-11-25T14:48:07.008181Z",
     "start_time": "2023-11-25T14:48:06.883545Z"
    }
   },
   "id": "91c098a16dd6b84f"
  },
  {
   "cell_type": "markdown",
   "source": [
    "## Make a pipeline"
   ],
   "metadata": {
    "collapsed": false
   },
   "id": "3f4f031eaebbb314"
  },
  {
   "cell_type": "code",
   "execution_count": 13,
   "outputs": [],
   "source": [
    "import lightgbm as lgb\n",
    "from sklearn.pipeline import make_pipeline"
   ],
   "metadata": {
    "collapsed": false,
    "ExecuteTime": {
     "end_time": "2023-11-25T14:44:00.196136Z",
     "start_time": "2023-11-25T14:43:59.989473Z"
    }
   },
   "id": "7b83834e707e6dcf"
  },
  {
   "cell_type": "code",
   "execution_count": 23,
   "outputs": [
    {
     "name": "stdout",
     "output_type": "stream",
     "text": [
      "[LightGBM] [Info] Auto-choosing row-wise multi-threading, the overhead of testing was 0.040385 seconds.\n",
      "You can set `force_row_wise=true` to remove the overhead.\n",
      "And if memory is not enough, you can set `force_col_wise=true`.\n",
      "[LightGBM] [Info] Total Bins 154527\n",
      "[LightGBM] [Info] Number of data points in the train set: 32226, number of used features: 675\n",
      "[LightGBM] [Info] Start training from score 11.703562\n"
     ]
    },
    {
     "data": {
      "text/plain": "Pipeline(steps=[('functiontransformer',\n                 FunctionTransformer(func=<function average_rides_last_4_weeks at 0x13f3f6f20>)),\n                ('temporalfeatureengineering', TemporalFeatureEngineering()),\n                ('lgbmregressor', LGBMRegressor())])",
      "text/html": "<style>#sk-container-id-3 {color: black;background-color: white;}#sk-container-id-3 pre{padding: 0;}#sk-container-id-3 div.sk-toggleable {background-color: white;}#sk-container-id-3 label.sk-toggleable__label {cursor: pointer;display: block;width: 100%;margin-bottom: 0;padding: 0.3em;box-sizing: border-box;text-align: center;}#sk-container-id-3 label.sk-toggleable__label-arrow:before {content: \"▸\";float: left;margin-right: 0.25em;color: #696969;}#sk-container-id-3 label.sk-toggleable__label-arrow:hover:before {color: black;}#sk-container-id-3 div.sk-estimator:hover label.sk-toggleable__label-arrow:before {color: black;}#sk-container-id-3 div.sk-toggleable__content {max-height: 0;max-width: 0;overflow: hidden;text-align: left;background-color: #f0f8ff;}#sk-container-id-3 div.sk-toggleable__content pre {margin: 0.2em;color: black;border-radius: 0.25em;background-color: #f0f8ff;}#sk-container-id-3 input.sk-toggleable__control:checked~div.sk-toggleable__content {max-height: 200px;max-width: 100%;overflow: auto;}#sk-container-id-3 input.sk-toggleable__control:checked~label.sk-toggleable__label-arrow:before {content: \"▾\";}#sk-container-id-3 div.sk-estimator input.sk-toggleable__control:checked~label.sk-toggleable__label {background-color: #d4ebff;}#sk-container-id-3 div.sk-label input.sk-toggleable__control:checked~label.sk-toggleable__label {background-color: #d4ebff;}#sk-container-id-3 input.sk-hidden--visually {border: 0;clip: rect(1px 1px 1px 1px);clip: rect(1px, 1px, 1px, 1px);height: 1px;margin: -1px;overflow: hidden;padding: 0;position: absolute;width: 1px;}#sk-container-id-3 div.sk-estimator {font-family: monospace;background-color: #f0f8ff;border: 1px dotted black;border-radius: 0.25em;box-sizing: border-box;margin-bottom: 0.5em;}#sk-container-id-3 div.sk-estimator:hover {background-color: #d4ebff;}#sk-container-id-3 div.sk-parallel-item::after {content: \"\";width: 100%;border-bottom: 1px solid gray;flex-grow: 1;}#sk-container-id-3 div.sk-label:hover label.sk-toggleable__label {background-color: #d4ebff;}#sk-container-id-3 div.sk-serial::before {content: \"\";position: absolute;border-left: 1px solid gray;box-sizing: border-box;top: 0;bottom: 0;left: 50%;z-index: 0;}#sk-container-id-3 div.sk-serial {display: flex;flex-direction: column;align-items: center;background-color: white;padding-right: 0.2em;padding-left: 0.2em;position: relative;}#sk-container-id-3 div.sk-item {position: relative;z-index: 1;}#sk-container-id-3 div.sk-parallel {display: flex;align-items: stretch;justify-content: center;background-color: white;position: relative;}#sk-container-id-3 div.sk-item::before, #sk-container-id-3 div.sk-parallel-item::before {content: \"\";position: absolute;border-left: 1px solid gray;box-sizing: border-box;top: 0;bottom: 0;left: 50%;z-index: -1;}#sk-container-id-3 div.sk-parallel-item {display: flex;flex-direction: column;z-index: 1;position: relative;background-color: white;}#sk-container-id-3 div.sk-parallel-item:first-child::after {align-self: flex-end;width: 50%;}#sk-container-id-3 div.sk-parallel-item:last-child::after {align-self: flex-start;width: 50%;}#sk-container-id-3 div.sk-parallel-item:only-child::after {width: 0;}#sk-container-id-3 div.sk-dashed-wrapped {border: 1px dashed gray;margin: 0 0.4em 0.5em 0.4em;box-sizing: border-box;padding-bottom: 0.4em;background-color: white;}#sk-container-id-3 div.sk-label label {font-family: monospace;font-weight: bold;display: inline-block;line-height: 1.2em;}#sk-container-id-3 div.sk-label-container {text-align: center;}#sk-container-id-3 div.sk-container {/* jupyter's `normalize.less` sets `[hidden] { display: none; }` but bootstrap.min.css set `[hidden] { display: none !important; }` so we also need the `!important` here to be able to override the default hidden behavior on the sphinx rendered scikit-learn.org. See: https://github.com/scikit-learn/scikit-learn/issues/21755 */display: inline-block !important;position: relative;}#sk-container-id-3 div.sk-text-repr-fallback {display: none;}</style><div id=\"sk-container-id-3\" class=\"sk-top-container\"><div class=\"sk-text-repr-fallback\"><pre>Pipeline(steps=[(&#x27;functiontransformer&#x27;,\n                 FunctionTransformer(func=&lt;function average_rides_last_4_weeks at 0x13f3f6f20&gt;)),\n                (&#x27;temporalfeatureengineering&#x27;, TemporalFeatureEngineering()),\n                (&#x27;lgbmregressor&#x27;, LGBMRegressor())])</pre><b>In a Jupyter environment, please rerun this cell to show the HTML representation or trust the notebook. <br />On GitHub, the HTML representation is unable to render, please try loading this page with nbviewer.org.</b></div><div class=\"sk-container\" hidden><div class=\"sk-item sk-dashed-wrapped\"><div class=\"sk-label-container\"><div class=\"sk-label sk-toggleable\"><input class=\"sk-toggleable__control sk-hidden--visually\" id=\"sk-estimator-id-9\" type=\"checkbox\" ><label for=\"sk-estimator-id-9\" class=\"sk-toggleable__label sk-toggleable__label-arrow\">Pipeline</label><div class=\"sk-toggleable__content\"><pre>Pipeline(steps=[(&#x27;functiontransformer&#x27;,\n                 FunctionTransformer(func=&lt;function average_rides_last_4_weeks at 0x13f3f6f20&gt;)),\n                (&#x27;temporalfeatureengineering&#x27;, TemporalFeatureEngineering()),\n                (&#x27;lgbmregressor&#x27;, LGBMRegressor())])</pre></div></div></div><div class=\"sk-serial\"><div class=\"sk-item\"><div class=\"sk-estimator sk-toggleable\"><input class=\"sk-toggleable__control sk-hidden--visually\" id=\"sk-estimator-id-10\" type=\"checkbox\" ><label for=\"sk-estimator-id-10\" class=\"sk-toggleable__label sk-toggleable__label-arrow\">FunctionTransformer</label><div class=\"sk-toggleable__content\"><pre>FunctionTransformer(func=&lt;function average_rides_last_4_weeks at 0x13f3f6f20&gt;)</pre></div></div></div><div class=\"sk-item\"><div class=\"sk-estimator sk-toggleable\"><input class=\"sk-toggleable__control sk-hidden--visually\" id=\"sk-estimator-id-11\" type=\"checkbox\" ><label for=\"sk-estimator-id-11\" class=\"sk-toggleable__label sk-toggleable__label-arrow\">TemporalFeatureEngineering</label><div class=\"sk-toggleable__content\"><pre>TemporalFeatureEngineering()</pre></div></div></div><div class=\"sk-item\"><div class=\"sk-estimator sk-toggleable\"><input class=\"sk-toggleable__control sk-hidden--visually\" id=\"sk-estimator-id-12\" type=\"checkbox\" ><label for=\"sk-estimator-id-12\" class=\"sk-toggleable__label sk-toggleable__label-arrow\">LGBMRegressor</label><div class=\"sk-toggleable__content\"><pre>LGBMRegressor()</pre></div></div></div></div></div></div></div>"
     },
     "execution_count": 23,
     "metadata": {},
     "output_type": "execute_result"
    }
   ],
   "source": [
    "pipeline = make_pipeline(\n",
    "    add_feature_average_rides_last_4_weeks,\n",
    "    temporal_feature_engineering,\n",
    "    lgb.LGBMRegressor()\n",
    ")\n",
    "\n",
    "pipeline.fit(X_train, y_train)"
   ],
   "metadata": {
    "collapsed": false,
    "ExecuteTime": {
     "end_time": "2023-11-25T14:48:13.392716Z",
     "start_time": "2023-11-25T14:48:10.610677Z"
    }
   },
   "id": "216d6ae865475c76"
  },
  {
   "cell_type": "code",
   "execution_count": 24,
   "outputs": [
    {
     "name": "stdout",
     "output_type": "stream",
     "text": [
      "MAE: 2.5975\n"
     ]
    },
    {
     "name": "stderr",
     "output_type": "stream",
     "text": [
      "/Users/marcus/.conda/envs/taxi_demand_predictor/lib/python3.11/site-packages/sklearn/utils/validation.py:605: FutureWarning: is_sparse is deprecated and will be removed in a future version. Check `isinstance(dtype, pd.SparseDtype)` instead.\n",
      "  if is_sparse(pd_dtype):\n",
      "/Users/marcus/.conda/envs/taxi_demand_predictor/lib/python3.11/site-packages/sklearn/utils/validation.py:614: FutureWarning: is_sparse is deprecated and will be removed in a future version. Check `isinstance(dtype, pd.SparseDtype)` instead.\n",
      "  if is_sparse(pd_dtype) or not is_extension_array_dtype(pd_dtype):\n"
     ]
    }
   ],
   "source": [
    "from sklearn.metrics import mean_absolute_error\n",
    "\n",
    "y_pred = pipeline.predict(X_test)\n",
    "mae = mean_absolute_error(y_test, y_pred)\n",
    "print(f'MAE: {mae:.4f}')"
   ],
   "metadata": {
    "collapsed": false,
    "ExecuteTime": {
     "end_time": "2023-11-25T14:48:14.177972Z",
     "start_time": "2023-11-25T14:48:13.605195Z"
    }
   },
   "id": "4dde35d604e540a4"
  },
  {
   "cell_type": "code",
   "execution_count": null,
   "outputs": [],
   "source": [],
   "metadata": {
    "collapsed": false
   },
   "id": "44fd59dfebff5026"
  }
 ],
 "metadata": {
  "kernelspec": {
   "display_name": "Python 3",
   "language": "python",
   "name": "python3"
  },
  "language_info": {
   "codemirror_mode": {
    "name": "ipython",
    "version": 2
   },
   "file_extension": ".py",
   "mimetype": "text/x-python",
   "name": "python",
   "nbconvert_exporter": "python",
   "pygments_lexer": "ipython2",
   "version": "2.7.6"
  }
 },
 "nbformat": 4,
 "nbformat_minor": 5
}
